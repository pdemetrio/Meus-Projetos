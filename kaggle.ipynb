{
 "cells": [
  {
   "cell_type": "markdown",
   "id": "b47776fd",
   "metadata": {},
   "source": [
    "# Projeto kaggle"
   ]
  },
  {
   "cell_type": "code",
   "execution_count": 1,
   "id": "318dac8c",
   "metadata": {},
   "outputs": [],
   "source": [
    "import pandas as pd\n",
    "import numpy as np"
   ]
  },
  {
   "cell_type": "code",
   "execution_count": 2,
   "id": "9cb074e9",
   "metadata": {},
   "outputs": [
    {
     "name": "stdout",
     "output_type": "stream",
     "text": [
      "14\n",
      "<class 'int'>\n"
     ]
    }
   ],
   "source": [
    "# definir uma variável de número inteiro.\n",
    "\n",
    "x = 14\n",
    "print(x)\n",
    "print(type(x))"
   ]
  },
  {
   "cell_type": "code",
   "execution_count": 4,
   "id": "b1752b1a",
   "metadata": {},
   "outputs": [
    {
     "name": "stdout",
     "output_type": "stream",
     "text": [
      "3.141592653589793\n",
      "<class 'float'>\n"
     ]
    }
   ],
   "source": [
    "# Definir uma variável float. Floats são números com partes fracionárias. Eles podem ter muitos números após o decimal.\n",
    "\n",
    "nearly_pi = 3.141592653589793238462643383279502884197169399375105820974944\n",
    "print(nearly_pi)\n",
    "print(type(nearly_pi))"
   ]
  },
  {
   "cell_type": "code",
   "execution_count": 5,
   "id": "b9c50e39",
   "metadata": {},
   "outputs": [
    {
     "name": "stdout",
     "output_type": "stream",
     "text": [
      "3.142857142857143\n",
      "<class 'float'>\n"
     ]
    }
   ],
   "source": [
    "# float em formato de fração.\n",
    "\n",
    "almost_pi = 22/7\n",
    "print(almost_pi)\n",
    "print(type(almost_pi))"
   ]
  },
  {
   "cell_type": "code",
   "execution_count": 11,
   "id": "2ffd0554",
   "metadata": {},
   "outputs": [
    {
     "name": "stdout",
     "output_type": "stream",
     "text": [
      "3.14286\n",
      "<class 'float'>\n"
     ]
    }
   ],
   "source": [
    "# Uma função particularmente útil para frações é a função round(). Permite arredondar um número para um número especificado de casas decimais.\n",
    "\n",
    "# Round to 5 decimal places\n",
    "rounded_pi = round(almost_pi, 5)\n",
    "print(rounded_pi)\n",
    "print(type(rounded_pi))"
   ]
  },
  {
   "cell_type": "code",
   "execution_count": 12,
   "id": "69de9f69",
   "metadata": {},
   "outputs": [
    {
     "name": "stdout",
     "output_type": "stream",
     "text": [
      "1.0\n",
      "<class 'float'>\n"
     ]
    }
   ],
   "source": [
    "# Por exemplo, colocando 1, 1.0 ou 3.14 sempre será conhecido como float.\n",
    "\n",
    "y_float = 1.\n",
    "print(y_float)\n",
    "print(type(y_float))"
   ]
  },
  {
   "cell_type": "code",
   "execution_count": 14,
   "id": "10210c18",
   "metadata": {},
   "outputs": [
    {
     "name": "stdout",
     "output_type": "stream",
     "text": [
      "True\n",
      "<class 'bool'>\n"
     ]
    }
   ],
   "source": [
    "# Booleanos são usados para representar o valor de verdade de uma expressão. Como 1 < 2 é uma declaração verdadeira, z_three assume o valor True.\n",
    "\n",
    "z_three = (1 < 2)\n",
    "print(z_three)\n",
    "print(type(z_three))"
   ]
  },
  {
   "cell_type": "code",
   "execution_count": 15,
   "id": "8d200dac",
   "metadata": {},
   "outputs": [
    {
     "name": "stdout",
     "output_type": "stream",
     "text": [
      "False\n",
      "<class 'bool'>\n"
     ]
    }
   ],
   "source": [
    "z_four = (5 < 3)\n",
    "print(z_four)\n",
    "print(type(z_four))"
   ]
  },
  {
   "cell_type": "code",
   "execution_count": 16,
   "id": "bba5ea12",
   "metadata": {},
   "outputs": [
    {
     "name": "stdout",
     "output_type": "stream",
     "text": [
      "True\n",
      "<class 'bool'>\n"
     ]
    }
   ],
   "source": [
    "# Podemos mudar o valor de um booleano usando not. Então, não verdadeiro é equivalente a falso, e não falso torna-se verdadeiro\n",
    "\n",
    "z_five = not z_four\n",
    "print(z_five)\n",
    "print(type(z_five))"
   ]
  },
  {
   "cell_type": "code",
   "execution_count": 17,
   "id": "903deac6",
   "metadata": {},
   "outputs": [
    {
     "name": "stdout",
     "output_type": "stream",
     "text": [
      "Hello, Python!\n",
      "<class 'str'>\n"
     ]
    }
   ],
   "source": [
    "# O tipo de dados string é uma coleção de caracteres (como letras do alfabeto, pontuação, dígitos numéricos ou símbolos) contidos entre aspas. Strings são comumente usadas para representar texto.\n",
    "\n",
    "w = \"Hello, Python!\"\n",
    "print(w)\n",
    "print(type(w))"
   ]
  },
  {
   "cell_type": "code",
   "execution_count": 18,
   "id": "579d1613",
   "metadata": {},
   "outputs": [
    {
     "name": "stdout",
     "output_type": "stream",
     "text": [
      "14\n"
     ]
    }
   ],
   "source": [
    "# você pode obter o comprimento de uma string com len(). \"Olá, Pitão!\" tem comprimento 14, porque tem 14 caracteres, incluindo espaço, vírgula e ponto de exclamação. Observe que as aspas não são incluídas no cálculo do comprimento.\n",
    "\n",
    "print(len(w))"
   ]
  },
  {
   "cell_type": "code",
   "execution_count": 19,
   "id": "60b1fb9f",
   "metadata": {},
   "outputs": [
    {
     "name": "stdout",
     "output_type": "stream",
     "text": [
      "<class 'str'>\n",
      "0\n"
     ]
    }
   ],
   "source": [
    "shortest_string = \"\"\n",
    "print(type(shortest_string))\n",
    "print(len(shortest_string))"
   ]
  },
  {
   "cell_type": "code",
   "execution_count": 21,
   "id": "664d9237",
   "metadata": {},
   "outputs": [
    {
     "name": "stdout",
     "output_type": "stream",
     "text": [
      "1.12321\n",
      "<class 'str'>\n",
      "7\n"
     ]
    }
   ],
   "source": [
    "# Número também pode ser String, basta colocar entre aspas \"\" ou ''\n",
    "\n",
    "my_number = \"1.12321\"\n",
    "print(my_number)\n",
    "print(type(my_number))\n",
    "print (len(my_number))"
   ]
  },
  {
   "cell_type": "code",
   "execution_count": 23,
   "id": "2d77e63d",
   "metadata": {},
   "outputs": [
    {
     "name": "stdout",
     "output_type": "stream",
     "text": [
      "1.12321\n",
      "<class 'float'>\n"
     ]
    }
   ],
   "source": [
    "# Converter String em Float, isso nem sempre funcionará! Por exemplo, podemos converter \"10.43430\" e \"3\" em floats, mas não podemos converter \"Hello, Python!\" a um flutuador.\n",
    "\n",
    "also_my_number = float(my_number)\n",
    "print(also_my_number)\n",
    "print(type(also_my_number))"
   ]
  },
  {
   "cell_type": "code",
   "execution_count": 24,
   "id": "f188bf61",
   "metadata": {},
   "outputs": [
    {
     "name": "stdout",
     "output_type": "stream",
     "text": [
      "abcdef\n",
      "<class 'str'>\n"
     ]
    }
   ],
   "source": [
    "# Concateneando, Assim como você pode adicionar dois números (flutuantes ou inteiros), você também pode adicionar duas strings. Isso resulta em uma string mais longa que combina as duas strings originais concatenando-as.\n",
    "\n",
    "new_string = \"abc\" + \"def\"\n",
    "print(new_string)\n",
    "print(type(new_string))"
   ]
  },
  {
   "cell_type": "code",
   "execution_count": 25,
   "id": "5d07515e",
   "metadata": {},
   "outputs": [
    {
     "name": "stdout",
     "output_type": "stream",
     "text": [
      "abcabcabc\n",
      "<class 'str'>\n"
     ]
    }
   ],
   "source": [
    "newest_string = \"abc\" * 3\n",
    "print(newest_string)\n",
    "print(type(newest_string))"
   ]
  },
  {
   "cell_type": "code",
   "execution_count": 27,
   "id": "9c48e9cf",
   "metadata": {},
   "outputs": [
    {
     "ename": "TypeError",
     "evalue": "can't multiply sequence by non-int of type 'float'",
     "output_type": "error",
     "traceback": [
      "\u001b[0;31m---------------------------------------------------------------------------\u001b[0m",
      "\u001b[0;31mTypeError\u001b[0m                                 Traceback (most recent call last)",
      "Cell \u001b[0;32mIn[27], line 3\u001b[0m\n\u001b[1;32m      1\u001b[0m \u001b[38;5;66;03m# Observe que você não pode multiplicar uma string por um float! Tentar fazer isso retornará um erro.\u001b[39;00m\n\u001b[0;32m----> 3\u001b[0m will_not_work \u001b[38;5;241m=\u001b[39m \u001b[38;5;124;43m\"\u001b[39;49m\u001b[38;5;124;43mabc\u001b[39;49m\u001b[38;5;124;43m\"\u001b[39;49m\u001b[43m \u001b[49m\u001b[38;5;241;43m*\u001b[39;49m\u001b[43m \u001b[49m\u001b[38;5;241;43m3.\u001b[39;49m\n\u001b[1;32m      4\u001b[0m \u001b[38;5;28mprint\u001b[39m (will_not_work)\n",
      "\u001b[0;31mTypeError\u001b[0m: can't multiply sequence by non-int of type 'float'"
     ]
    }
   ],
   "source": [
    "# Observe que você não pode multiplicar uma string por um float! Tentar fazer isso retornará um erro.\n",
    "\n",
    "will_not_work = \"abc\" * 3.\n",
    "print (will_not_work)"
   ]
  },
  {
   "cell_type": "markdown",
   "id": "81e666e3",
   "metadata": {},
   "source": [
    "# Condições e declarações condicionais"
   ]
  },
  {
   "cell_type": "code",
   "execution_count": 7,
   "id": "89d7c485",
   "metadata": {},
   "outputs": [
    {
     "name": "stdout",
     "output_type": "stream",
     "text": [
      "False\n",
      "False\n",
      "True\n"
     ]
    }
   ],
   "source": [
    "# Nesta lição, você aprenderá como usar condições e declarações condicionais para modificar como suas funções são executadas.\n",
    "\n",
    "print (2>6)\n",
    "\n",
    "var_one = 1\n",
    "var_two = 2\n",
    "\n",
    "print(var_one < 1)\n",
    "print(var_two >= var_one)"
   ]
  },
  {
   "cell_type": "code",
   "execution_count": 34,
   "id": "58a0ee33",
   "metadata": {},
   "outputs": [],
   "source": [
    "# Função \"se\" if\n",
    "\n",
    "def evaluate_temp(temp):\n",
    "    # Set an initial message\n",
    "    message = \"Normal temperature.\"\n",
    "    # Update value of message only if temperature greater than 38\n",
    "    if temp > 38:\n",
    "            message = \"Fever!\"\n",
    "    return message\n"
   ]
  },
  {
   "cell_type": "code",
   "execution_count": 36,
   "id": "92970673",
   "metadata": {},
   "outputs": [
    {
     "name": "stdout",
     "output_type": "stream",
     "text": [
      "Fever!\n"
     ]
    }
   ],
   "source": [
    "print(evaluate_temp(39))"
   ]
  },
  {
   "cell_type": "code",
   "execution_count": 37,
   "id": "03513a2b",
   "metadata": {},
   "outputs": [],
   "source": [
    "# If e else\n",
    "\n",
    "def evaluate_temp_with_else(temp):\n",
    "    if temp > 38:\n",
    "        message = \"Fever!\"\n",
    "    else:\n",
    "        message = \"Normal temperature.\"\n",
    "    return message"
   ]
  },
  {
   "cell_type": "code",
   "execution_count": 38,
   "id": "2b9efff9",
   "metadata": {},
   "outputs": [
    {
     "name": "stdout",
     "output_type": "stream",
     "text": [
      "Normal temperature.\n"
     ]
    }
   ],
   "source": [
    "print(evaluate_temp_with_else(37))"
   ]
  },
  {
   "cell_type": "code",
   "execution_count": 39,
   "id": "47fb1042",
   "metadata": {},
   "outputs": [],
   "source": [
    "# If, elif, else\n",
    "\n",
    "def evaluate_temp_with_elif(temp):\n",
    "    if temp > 38:\n",
    "        message = \"Fever!\"\n",
    "    elif temp > 35:\n",
    "        message = \"Normal temperature.\"\n",
    "    else:\n",
    "        message = \"Low temperature.\"\n",
    "    return message"
   ]
  },
  {
   "cell_type": "code",
   "execution_count": 41,
   "id": "6b474f6f",
   "metadata": {},
   "outputs": [
    {
     "data": {
      "text/plain": [
       "'Low temperature.'"
      ]
     },
     "execution_count": 41,
     "metadata": {},
     "output_type": "execute_result"
    }
   ],
   "source": [
    "evaluate_temp_with_elif(34)"
   ]
  },
  {
   "cell_type": "code",
   "execution_count": 42,
   "id": "0cf1325d",
   "metadata": {},
   "outputs": [],
   "source": [
    "# em um país com apenas duas faixas de imposto. Todo mundo que ganha menos de 12.000 paga 25% de impostos e quem ganha 12.000 ou mais paga 30%. A função abaixo calcula quanto de imposto é devido.\n",
    "\n",
    "def get_taxes(earnings):\n",
    "    if earnings < 12000:\n",
    "        tax_owed = .25 * earnings\n",
    "    else:\n",
    "        tax_owed = .30 * earnings\n",
    "    return tax_owed"
   ]
  },
  {
   "cell_type": "code",
   "execution_count": 43,
   "id": "53cd7bc5",
   "metadata": {},
   "outputs": [
    {
     "name": "stdout",
     "output_type": "stream",
     "text": [
      "2250.0\n",
      "4500.0\n"
     ]
    }
   ],
   "source": [
    "ana_taxes = get_taxes(9000)\n",
    "bob_taxes = get_taxes(15000)\n",
    "\n",
    "print(ana_taxes)\n",
    "print(bob_taxes)"
   ]
  },
  {
   "cell_type": "code",
   "execution_count": 44,
   "id": "2702dac0",
   "metadata": {},
   "outputs": [],
   "source": [
    "# outros exemplos.\n",
    "\n",
    "def get_dose(weight):\n",
    "    # Dosage is 1.25 ml for anyone under 5.2 kg\n",
    "    if weight < 5.2:\n",
    "        dose = 1.25\n",
    "    elif weight < 7.9:\n",
    "        dose = 2.5\n",
    "    elif weight < 10.4:\n",
    "        dose = 3.75\n",
    "    elif weight < 15.9:\n",
    "        dose = 5\n",
    "    elif weight < 21.2:\n",
    "        dose = 7.5\n",
    "    # Dosage is 10 ml for anyone 21.2 kg or over\n",
    "    else:\n",
    "        dose = 10\n",
    "    return dose"
   ]
  },
  {
   "cell_type": "code",
   "execution_count": 47,
   "id": "a8b0d39a",
   "metadata": {},
   "outputs": [
    {
     "name": "stdout",
     "output_type": "stream",
     "text": [
      "5\n"
     ]
    }
   ],
   "source": [
    "print (get_dose(12))"
   ]
  },
  {
   "cell_type": "code",
   "execution_count": 48,
   "id": "e195fce8",
   "metadata": {},
   "outputs": [],
   "source": [
    "def get_grade(score):\n",
    "    if score >= 90:\n",
    "        return \"A\"\n",
    "    elif score >= 80:\n",
    "        return \"B\"\n",
    "    elif score >= 70:\n",
    "        return \"C\"\n",
    "    elif score >= 60:\n",
    "        return \"D\"\n",
    "    else:\n",
    "        return \"F\"\n"
   ]
  },
  {
   "cell_type": "code",
   "execution_count": 52,
   "id": "af621172",
   "metadata": {},
   "outputs": [
    {
     "name": "stdout",
     "output_type": "stream",
     "text": [
      "A\n"
     ]
    }
   ],
   "source": [
    "print (get_grade(100))"
   ]
  },
  {
   "cell_type": "code",
   "execution_count": 53,
   "id": "f86104b5",
   "metadata": {},
   "outputs": [
    {
     "data": {
      "text/plain": [
       "220"
      ]
     },
     "execution_count": 53,
     "metadata": {},
     "output_type": "execute_result"
    }
   ],
   "source": [
    "def cost_of_project(engraving, solid_gold):\n",
    "    base_cost_gold_plated = 50\n",
    "    base_cost_solid_gold = 100\n",
    "    cost_per_unit_gold_plated = 7\n",
    "    cost_per_unit_solid_gold = 10\n",
    "\n",
    "    if solid_gold:\n",
    "        total_cost = base_cost_solid_gold + (cost_per_unit_solid_gold * len(engraving))\n",
    "    else:\n",
    "        total_cost = base_cost_gold_plated + (cost_per_unit_gold_plated * len(engraving))\n",
    "    \n",
    "    return total_cost\n",
    "\n",
    "cost_of_project(\"Hello World!\", True)"
   ]
  },
  {
   "cell_type": "code",
   "execution_count": 54,
   "id": "1d602f93",
   "metadata": {},
   "outputs": [
    {
     "data": {
      "text/plain": [
       "60.0"
      ]
     },
     "execution_count": 54,
     "metadata": {},
     "output_type": "execute_result"
    }
   ],
   "source": [
    "def get_water_bill(num_gallons):\n",
    "    \n",
    "    tier1_price = 5\n",
    "    tier2_price = 6\n",
    "    tier3_price = 7\n",
    "    tier4_price = 10\n",
    "\n",
    "    if num_gallons <= 8000:\n",
    "        water_bill = (num_gallons / 1000) * tier1_price\n",
    "    elif num_gallons <= 22000:\n",
    "        water_bill = (num_gallons / 1000) * tier2_price\n",
    "    elif num_gallons <= 30000:\n",
    "        water_bill = (num_gallons / 1000) * tier3_price\n",
    "    else:\n",
    "        water_bill = (num_gallons / 1000) * tier4_price\n",
    "    \n",
    "    return water_bill\n",
    "\n",
    "get_water_bill(10000)"
   ]
  },
  {
   "cell_type": "code",
   "execution_count": 57,
   "id": "fa4f4ce0",
   "metadata": {},
   "outputs": [
    {
     "data": {
      "text/plain": [
       "100.1"
      ]
     },
     "execution_count": 57,
     "metadata": {},
     "output_type": "execute_result"
    }
   ],
   "source": [
    "def get_phone_bill(gb):\n",
    "    \n",
    "    base_price = 100  # Valor base da assinatura\n",
    "    included_data = 15  # Dados incluídos na assinatura em GB\n",
    "    data_overage_rate = 0.1  # Taxa de cobrança por GB adicional\n",
    "\n",
    "    if gb <= included_data:\n",
    "        phone_bill = base_price\n",
    "    else:\n",
    "        data_overage = gb - included_data\n",
    "        data_overage_cost = data_overage * data_overage_rate\n",
    "        phone_bill = base_price + data_overage_cost\n",
    "    \n",
    "    return phone_bill\n",
    "\n",
    "get_phone_bill (16)\n"
   ]
  },
  {
   "cell_type": "code",
   "execution_count": 63,
   "id": "0b4c20aa",
   "metadata": {},
   "outputs": [],
   "source": [
    "def get_labels(food_type, serving_size, calories_per_serving, saturated_fat_g, trans_fat_g, sodium_mg, sugars_g):\n",
    "    # Verificar o tipo de alimento\n",
    "    if food_type == \"solid\":\n",
    "        serving_unit = \"gramas\"\n",
    "    elif food_type == \"líquido\":\n",
    "        serving_unit = \"mililitros\"\n",
    "    else:\n",
    "        print(\"Tipo de alimento inválido.\")\n",
    "        return\n",
    "    \n",
    "    # Verificar cada componente e imprimir os rótulos de aviso, se necessário\n",
    "    if excess_sugar(sugars_g):\n",
    "        print(\"EXCESO AZÚCARES\")\n",
    "    \n",
    "    if excess_saturated_fat(saturated_fat_g):\n",
    "        print(\"EXCESO GRASA SATURADA\")\n",
    "    \n",
    "    if excess_trans_fat(trans_fat_g):\n",
    "        print(\"EXCESO GRASA TRANS\")\n",
    "    \n",
    "    if excess_sodium(sodium_mg):\n",
    "        print(\"EXCESO SODIO\")\n",
    "    \n",
    "    if excess_calories(calories_per_serving):\n",
    "        print(\"EXCESO CALORÍAS\")\n",
    "    \n",
    "    # Imprimir informações sobre a porção\n",
    "    print(f\"Tamaño de la porción: {serving_size} {serving_unit}\")\n",
    "    \n",
    "    get_labels(\"solido\", 32, 110, 2.5, 0, 400, 1)"
   ]
  },
  {
   "cell_type": "code",
   "execution_count": null,
   "id": "97f95ea5",
   "metadata": {},
   "outputs": [],
   "source": []
  }
 ],
 "metadata": {
  "kernelspec": {
   "display_name": "Python 3 (ipykernel)",
   "language": "python",
   "name": "python3"
  },
  "language_info": {
   "codemirror_mode": {
    "name": "ipython",
    "version": 3
   },
   "file_extension": ".py",
   "mimetype": "text/x-python",
   "name": "python",
   "nbconvert_exporter": "python",
   "pygments_lexer": "ipython3",
   "version": "3.10.9"
  }
 },
 "nbformat": 4,
 "nbformat_minor": 5
}
