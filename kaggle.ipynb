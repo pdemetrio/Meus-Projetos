{
 "cells": [
  {
   "cell_type": "markdown",
   "id": "b47776fd",
   "metadata": {},
   "source": [
    "# Projeto kaggle"
   ]
  },
  {
   "cell_type": "code",
   "execution_count": 1,
   "id": "318dac8c",
   "metadata": {},
   "outputs": [],
   "source": [
    "import pandas as pd\n",
    "import numpy as np"
   ]
  },
  {
   "cell_type": "code",
   "execution_count": 2,
   "id": "9cb074e9",
   "metadata": {},
   "outputs": [
    {
     "name": "stdout",
     "output_type": "stream",
     "text": [
      "14\n",
      "<class 'int'>\n"
     ]
    }
   ],
   "source": [
    "# definir uma variável de número inteiro.\n",
    "\n",
    "x = 14\n",
    "print(x)\n",
    "print(type(x))"
   ]
  },
  {
   "cell_type": "code",
   "execution_count": 4,
   "id": "b1752b1a",
   "metadata": {},
   "outputs": [
    {
     "name": "stdout",
     "output_type": "stream",
     "text": [
      "3.141592653589793\n",
      "<class 'float'>\n"
     ]
    }
   ],
   "source": [
    "# Definir uma variável float. Floats são números com partes fracionárias. Eles podem ter muitos números após o decimal.\n",
    "\n",
    "nearly_pi = 3.141592653589793238462643383279502884197169399375105820974944\n",
    "print(nearly_pi)\n",
    "print(type(nearly_pi))"
   ]
  },
  {
   "cell_type": "code",
   "execution_count": 5,
   "id": "b9c50e39",
   "metadata": {},
   "outputs": [
    {
     "name": "stdout",
     "output_type": "stream",
     "text": [
      "3.142857142857143\n",
      "<class 'float'>\n"
     ]
    }
   ],
   "source": [
    "# float em formato de fração.\n",
    "\n",
    "almost_pi = 22/7\n",
    "print(almost_pi)\n",
    "print(type(almost_pi))"
   ]
  },
  {
   "cell_type": "code",
   "execution_count": 11,
   "id": "2ffd0554",
   "metadata": {},
   "outputs": [
    {
     "name": "stdout",
     "output_type": "stream",
     "text": [
      "3.14286\n",
      "<class 'float'>\n"
     ]
    }
   ],
   "source": [
    "# Uma função particularmente útil para frações é a função round(). Permite arredondar um número para um número especificado de casas decimais.\n",
    "\n",
    "# Round to 5 decimal places\n",
    "rounded_pi = round(almost_pi, 5)\n",
    "print(rounded_pi)\n",
    "print(type(rounded_pi))"
   ]
  },
  {
   "cell_type": "code",
   "execution_count": 12,
   "id": "69de9f69",
   "metadata": {},
   "outputs": [
    {
     "name": "stdout",
     "output_type": "stream",
     "text": [
      "1.0\n",
      "<class 'float'>\n"
     ]
    }
   ],
   "source": [
    "# Por exemplo, colocando 1, 1.0 ou 3.14 sempre será conhecido como float.\n",
    "\n",
    "y_float = 1.\n",
    "print(y_float)\n",
    "print(type(y_float))"
   ]
  },
  {
   "cell_type": "code",
   "execution_count": 14,
   "id": "10210c18",
   "metadata": {},
   "outputs": [
    {
     "name": "stdout",
     "output_type": "stream",
     "text": [
      "True\n",
      "<class 'bool'>\n"
     ]
    }
   ],
   "source": [
    "# Booleanos são usados para representar o valor de verdade de uma expressão. Como 1 < 2 é uma declaração verdadeira, z_three assume o valor True.\n",
    "\n",
    "z_three = (1 < 2)\n",
    "print(z_three)\n",
    "print(type(z_three))"
   ]
  },
  {
   "cell_type": "code",
   "execution_count": 15,
   "id": "8d200dac",
   "metadata": {},
   "outputs": [
    {
     "name": "stdout",
     "output_type": "stream",
     "text": [
      "False\n",
      "<class 'bool'>\n"
     ]
    }
   ],
   "source": [
    "z_four = (5 < 3)\n",
    "print(z_four)\n",
    "print(type(z_four))"
   ]
  },
  {
   "cell_type": "code",
   "execution_count": 16,
   "id": "bba5ea12",
   "metadata": {},
   "outputs": [
    {
     "name": "stdout",
     "output_type": "stream",
     "text": [
      "True\n",
      "<class 'bool'>\n"
     ]
    }
   ],
   "source": [
    "# Podemos mudar o valor de um booleano usando not. Então, não verdadeiro é equivalente a falso, e não falso torna-se verdadeiro\n",
    "\n",
    "z_five = not z_four\n",
    "print(z_five)\n",
    "print(type(z_five))"
   ]
  },
  {
   "cell_type": "code",
   "execution_count": 17,
   "id": "903deac6",
   "metadata": {},
   "outputs": [
    {
     "name": "stdout",
     "output_type": "stream",
     "text": [
      "Hello, Python!\n",
      "<class 'str'>\n"
     ]
    }
   ],
   "source": [
    "# O tipo de dados string é uma coleção de caracteres (como letras do alfabeto, pontuação, dígitos numéricos ou símbolos) contidos entre aspas. Strings são comumente usadas para representar texto.\n",
    "\n",
    "w = \"Hello, Python!\"\n",
    "print(w)\n",
    "print(type(w))"
   ]
  },
  {
   "cell_type": "code",
   "execution_count": 18,
   "id": "579d1613",
   "metadata": {},
   "outputs": [
    {
     "name": "stdout",
     "output_type": "stream",
     "text": [
      "14\n"
     ]
    }
   ],
   "source": [
    "# você pode obter o comprimento de uma string com len(). \"Olá, Pitão!\" tem comprimento 14, porque tem 14 caracteres, incluindo espaço, vírgula e ponto de exclamação. Observe que as aspas não são incluídas no cálculo do comprimento.\n",
    "\n",
    "print(len(w))"
   ]
  },
  {
   "cell_type": "code",
   "execution_count": 19,
   "id": "60b1fb9f",
   "metadata": {},
   "outputs": [
    {
     "name": "stdout",
     "output_type": "stream",
     "text": [
      "<class 'str'>\n",
      "0\n"
     ]
    }
   ],
   "source": [
    "shortest_string = \"\"\n",
    "print(type(shortest_string))\n",
    "print(len(shortest_string))"
   ]
  },
  {
   "cell_type": "code",
   "execution_count": 21,
   "id": "664d9237",
   "metadata": {},
   "outputs": [
    {
     "name": "stdout",
     "output_type": "stream",
     "text": [
      "1.12321\n",
      "<class 'str'>\n",
      "7\n"
     ]
    }
   ],
   "source": [
    "# Número também pode ser String, basta colocar entre aspas \"\" ou ''\n",
    "\n",
    "my_number = \"1.12321\"\n",
    "print(my_number)\n",
    "print(type(my_number))\n",
    "print (len(my_number))"
   ]
  },
  {
   "cell_type": "code",
   "execution_count": 23,
   "id": "2d77e63d",
   "metadata": {},
   "outputs": [
    {
     "name": "stdout",
     "output_type": "stream",
     "text": [
      "1.12321\n",
      "<class 'float'>\n"
     ]
    }
   ],
   "source": [
    "# Converter String em Float, isso nem sempre funcionará! Por exemplo, podemos converter \"10.43430\" e \"3\" em floats, mas não podemos converter \"Hello, Python!\" a um flutuador.\n",
    "\n",
    "also_my_number = float(my_number)\n",
    "print(also_my_number)\n",
    "print(type(also_my_number))"
   ]
  },
  {
   "cell_type": "code",
   "execution_count": 24,
   "id": "f188bf61",
   "metadata": {},
   "outputs": [
    {
     "name": "stdout",
     "output_type": "stream",
     "text": [
      "abcdef\n",
      "<class 'str'>\n"
     ]
    }
   ],
   "source": [
    "# Concateneando, Assim como você pode adicionar dois números (flutuantes ou inteiros), você também pode adicionar duas strings. Isso resulta em uma string mais longa que combina as duas strings originais concatenando-as.\n",
    "\n",
    "new_string = \"abc\" + \"def\"\n",
    "print(new_string)\n",
    "print(type(new_string))"
   ]
  },
  {
   "cell_type": "code",
   "execution_count": 25,
   "id": "5d07515e",
   "metadata": {},
   "outputs": [
    {
     "name": "stdout",
     "output_type": "stream",
     "text": [
      "abcabcabc\n",
      "<class 'str'>\n"
     ]
    }
   ],
   "source": [
    "newest_string = \"abc\" * 3\n",
    "print(newest_string)\n",
    "print(type(newest_string))"
   ]
  },
  {
   "cell_type": "code",
   "execution_count": 27,
   "id": "9c48e9cf",
   "metadata": {},
   "outputs": [
    {
     "ename": "TypeError",
     "evalue": "can't multiply sequence by non-int of type 'float'",
     "output_type": "error",
     "traceback": [
      "\u001b[0;31m---------------------------------------------------------------------------\u001b[0m",
      "\u001b[0;31mTypeError\u001b[0m                                 Traceback (most recent call last)",
      "Cell \u001b[0;32mIn[27], line 3\u001b[0m\n\u001b[1;32m      1\u001b[0m \u001b[38;5;66;03m# Observe que você não pode multiplicar uma string por um float! Tentar fazer isso retornará um erro.\u001b[39;00m\n\u001b[0;32m----> 3\u001b[0m will_not_work \u001b[38;5;241m=\u001b[39m \u001b[38;5;124;43m\"\u001b[39;49m\u001b[38;5;124;43mabc\u001b[39;49m\u001b[38;5;124;43m\"\u001b[39;49m\u001b[43m \u001b[49m\u001b[38;5;241;43m*\u001b[39;49m\u001b[43m \u001b[49m\u001b[38;5;241;43m3.\u001b[39;49m\n\u001b[1;32m      4\u001b[0m \u001b[38;5;28mprint\u001b[39m (will_not_work)\n",
      "\u001b[0;31mTypeError\u001b[0m: can't multiply sequence by non-int of type 'float'"
     ]
    }
   ],
   "source": [
    "# Observe que você não pode multiplicar uma string por um float! Tentar fazer isso retornará um erro.\n",
    "\n",
    "will_not_work = \"abc\" * 3.\n",
    "print (will_not_work)"
   ]
  },
  {
   "cell_type": "code",
   "execution_count": null,
   "id": "51efce0a",
   "metadata": {},
   "outputs": [],
   "source": []
  }
 ],
 "metadata": {
  "kernelspec": {
   "display_name": "Python 3 (ipykernel)",
   "language": "python",
   "name": "python3"
  },
  "language_info": {
   "codemirror_mode": {
    "name": "ipython",
    "version": 3
   },
   "file_extension": ".py",
   "mimetype": "text/x-python",
   "name": "python",
   "nbconvert_exporter": "python",
   "pygments_lexer": "ipython3",
   "version": "3.10.9"
  }
 },
 "nbformat": 4,
 "nbformat_minor": 5
}
