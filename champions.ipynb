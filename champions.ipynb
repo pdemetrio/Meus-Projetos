{
 "cells": [
  {
   "cell_type": "code",
   "execution_count": null,
   "metadata": {
    "id": "Ir9FbiE3-vwy"
   },
   "outputs": [],
   "source": [
    "import pandas as pd\n",
    "import numpy as np\n",
    "import matplotlib.pyplot as plt\n",
    "import seaborn as sns\n",
    "import matplotlib"
   ]
  },
  {
   "cell_type": "code",
   "execution_count": 35,
   "metadata": {
    "id": "eQzFTAbhBQcu"
   },
   "outputs": [],
   "source": [
    "# Defina a largura máxima das colunas para um número alto\n",
    "pd.set_option('display.max_columns', None)"
   ]
  },
  {
   "cell_type": "code",
   "execution_count": 36,
   "metadata": {
    "id": "kCdvVDAa_VuQ"
   },
   "outputs": [],
   "source": [
    "df = pd.read_csv('champions.csv')"
   ]
  },
  {
   "cell_type": "code",
   "execution_count": 37,
   "metadata": {
    "colab": {
     "base_uri": "https://localhost:8080/"
    },
    "id": "FWlvSbOk_mxU",
    "outputId": "d13d7b9a-4309-44b6-b818-fbcf6f08c613"
   },
   "outputs": [
    {
     "data": {
      "text/plain": [
       "Time               0\n",
       "País               0\n",
       "JogosDisputados    0\n",
       "Vitórias           0\n",
       "Empates            0\n",
       "Derrotas           0\n",
       "GolsMarcados       0\n",
       "GolsSofridos       0\n",
       "Pontos             0\n",
       "dtype: int64"
      ]
     },
     "execution_count": 37,
     "metadata": {},
     "output_type": "execute_result"
    }
   ],
   "source": [
    "df.isnull().sum()"
   ]
  },
  {
   "cell_type": "code",
   "execution_count": 38,
   "metadata": {
    "colab": {
     "base_uri": "https://localhost:8080/"
    },
    "id": "4tReSHiB_nWk",
    "outputId": "a43e4072-76ea-4291-f7a5-024bbb9a0f31"
   },
   "outputs": [
    {
     "data": {
      "text/plain": [
       "Time               object\n",
       "País               object\n",
       "JogosDisputados     int64\n",
       "Vitórias            int64\n",
       "Empates             int64\n",
       "Derrotas            int64\n",
       "GolsMarcados        int64\n",
       "GolsSofridos        int64\n",
       "Pontos              int64\n",
       "dtype: object"
      ]
     },
     "execution_count": 38,
     "metadata": {},
     "output_type": "execute_result"
    }
   ],
   "source": [
    "df.dtypes"
   ]
  },
  {
   "cell_type": "code",
   "execution_count": 39,
   "metadata": {},
   "outputs": [],
   "source": [
    "lst = ['JogosDisputados', 'Vitórias',  'Empates', 'Derrotas', 'GolsMarcados', 'GolsSofridos', 'Pontos']"
   ]
  },
  {
   "cell_type": "code",
   "execution_count": 40,
   "metadata": {},
   "outputs": [
    {
     "data": {
      "text/plain": [
       "Time                object\n",
       "País                object\n",
       "JogosDisputados    float64\n",
       "Vitórias           float64\n",
       "Empates            float64\n",
       "Derrotas           float64\n",
       "GolsMarcados       float64\n",
       "GolsSofridos       float64\n",
       "Pontos             float64\n",
       "dtype: object"
      ]
     },
     "execution_count": 40,
     "metadata": {},
     "output_type": "execute_result"
    }
   ],
   "source": [
    "df[lst] = df[lst].astype(\"float\")\n",
    "df.dtypes"
   ]
  },
  {
   "cell_type": "code",
   "execution_count": 41,
   "metadata": {},
   "outputs": [
    {
     "data": {
      "text/plain": [
       "<bound method DataFrame.info of                    Time        País  JogosDisputados  Vitórias  Empates  \\\n",
       "0           Real Madrid     Espanha            207.0     127.0     42.0   \n",
       "1          FC Barcelona     Espanha            207.0     123.0     43.0   \n",
       "2     Bayern de Munique    Alemanha            207.0     125.0     41.0   \n",
       "3     Manchester United  Inglaterra            190.0     109.0     42.0   \n",
       "4             Liverpool  Inglaterra            190.0     109.0     40.0   \n",
       "5              Juventus      Itália            190.0     102.0     55.0   \n",
       "6              AC Milan      Itália            190.0     103.0     46.0   \n",
       "7               Chelsea  Inglaterra            175.0     100.0     34.0   \n",
       "8   Paris Saint-Germain      França            175.0      98.0     41.0   \n",
       "9     Borussia Dortmund    Alemanha            175.0      94.0     37.0   \n",
       "10          Real Madrid     Espanha            207.0     127.0     42.0   \n",
       "11         FC Barcelona     Espanha            207.0     123.0     43.0   \n",
       "12    Bayern de Munique    Alemanha            207.0     125.0     41.0   \n",
       "13    Manchester United  Inglaterra            190.0     109.0     42.0   \n",
       "14            Liverpool  Inglaterra            190.0     109.0     40.0   \n",
       "15             Juventus      Itália            190.0     102.0     55.0   \n",
       "16             AC Milan      Itália            190.0     103.0     46.0   \n",
       "17              Chelsea  Inglaterra            175.0     100.0     34.0   \n",
       "18  Paris Saint-Germain      França            175.0      98.0     41.0   \n",
       "19    Borussia Dortmund    Alemanha            175.0      94.0     37.0   \n",
       "20          Real Madrid     Espanha            207.0     127.0     42.0   \n",
       "21         FC Barcelona     Espanha            207.0     123.0     43.0   \n",
       "22    Bayern de Munique    Alemanha            207.0     125.0     41.0   \n",
       "23    Manchester United  Inglaterra            190.0     109.0     42.0   \n",
       "24            Liverpool  Inglaterra            190.0     109.0     40.0   \n",
       "25             Juventus      Itália            190.0     102.0     55.0   \n",
       "26             AC Milan      Itália            190.0     103.0     46.0   \n",
       "27              Chelsea  Inglaterra            175.0     100.0     34.0   \n",
       "28  Paris Saint-Germain      França            175.0      98.0     41.0   \n",
       "29    Borussia Dortmund    Alemanha            175.0      94.0     37.0   \n",
       "\n",
       "    Derrotas  GolsMarcados  GolsSofridos  Pontos  \n",
       "0       38.0         442.0         229.0   423.0  \n",
       "1       41.0         423.0         232.0   412.0  \n",
       "2       41.0         416.0         232.0   416.0  \n",
       "3       39.0         355.0         199.0   369.0  \n",
       "4       41.0         384.0         226.0   367.0  \n",
       "5       33.0         334.0         196.0   361.0  \n",
       "6       41.0         334.0         219.0   355.0  \n",
       "7       41.0         332.0         204.0   334.0  \n",
       "8       36.0         326.0         193.0   335.0  \n",
       "9       44.0         321.0         223.0   325.0  \n",
       "10      38.0         442.0         229.0   423.0  \n",
       "11      41.0         423.0         232.0   412.0  \n",
       "12      41.0         416.0         232.0   416.0  \n",
       "13      39.0         355.0         199.0   369.0  \n",
       "14      41.0         384.0         226.0   367.0  \n",
       "15      33.0         334.0         196.0   361.0  \n",
       "16      41.0         334.0         219.0   355.0  \n",
       "17      41.0         332.0         204.0   334.0  \n",
       "18      36.0         326.0         193.0   335.0  \n",
       "19      44.0         321.0         223.0   325.0  \n",
       "20      38.0         442.0         229.0   423.0  \n",
       "21      41.0         423.0         232.0   412.0  \n",
       "22      41.0         416.0         232.0   416.0  \n",
       "23      39.0         355.0         199.0   369.0  \n",
       "24      41.0         384.0         226.0   367.0  \n",
       "25      33.0         334.0         196.0   361.0  \n",
       "26      41.0         334.0         219.0   355.0  \n",
       "27      41.0         332.0         204.0   334.0  \n",
       "28      36.0         326.0         193.0   335.0  \n",
       "29      44.0         321.0         223.0   325.0  >"
      ]
     },
     "execution_count": 41,
     "metadata": {},
     "output_type": "execute_result"
    }
   ],
   "source": [
    "df.info"
   ]
  },
  {
   "cell_type": "code",
   "execution_count": 42,
   "metadata": {
    "id": "D8SuFzaRAGmy",
    "scrolled": true
   },
   "outputs": [
    {
     "data": {
      "text/html": [
       "<div>\n",
       "<style scoped>\n",
       "    .dataframe tbody tr th:only-of-type {\n",
       "        vertical-align: middle;\n",
       "    }\n",
       "\n",
       "    .dataframe tbody tr th {\n",
       "        vertical-align: top;\n",
       "    }\n",
       "\n",
       "    .dataframe thead th {\n",
       "        text-align: right;\n",
       "    }\n",
       "</style>\n",
       "<table border=\"1\" class=\"dataframe\">\n",
       "  <thead>\n",
       "    <tr style=\"text-align: right;\">\n",
       "      <th></th>\n",
       "      <th>Time</th>\n",
       "      <th>País</th>\n",
       "      <th>JogosDisputados</th>\n",
       "      <th>Vitórias</th>\n",
       "      <th>Empates</th>\n",
       "      <th>Derrotas</th>\n",
       "      <th>GolsMarcados</th>\n",
       "      <th>GolsSofridos</th>\n",
       "      <th>Pontos</th>\n",
       "    </tr>\n",
       "  </thead>\n",
       "  <tbody>\n",
       "    <tr>\n",
       "      <th>0</th>\n",
       "      <td>Real Madrid</td>\n",
       "      <td>Espanha</td>\n",
       "      <td>207.0</td>\n",
       "      <td>127.0</td>\n",
       "      <td>42.0</td>\n",
       "      <td>38.0</td>\n",
       "      <td>442.0</td>\n",
       "      <td>229.0</td>\n",
       "      <td>423.0</td>\n",
       "    </tr>\n",
       "    <tr>\n",
       "      <th>1</th>\n",
       "      <td>FC Barcelona</td>\n",
       "      <td>Espanha</td>\n",
       "      <td>207.0</td>\n",
       "      <td>123.0</td>\n",
       "      <td>43.0</td>\n",
       "      <td>41.0</td>\n",
       "      <td>423.0</td>\n",
       "      <td>232.0</td>\n",
       "      <td>412.0</td>\n",
       "    </tr>\n",
       "    <tr>\n",
       "      <th>2</th>\n",
       "      <td>Bayern de Munique</td>\n",
       "      <td>Alemanha</td>\n",
       "      <td>207.0</td>\n",
       "      <td>125.0</td>\n",
       "      <td>41.0</td>\n",
       "      <td>41.0</td>\n",
       "      <td>416.0</td>\n",
       "      <td>232.0</td>\n",
       "      <td>416.0</td>\n",
       "    </tr>\n",
       "    <tr>\n",
       "      <th>3</th>\n",
       "      <td>Manchester United</td>\n",
       "      <td>Inglaterra</td>\n",
       "      <td>190.0</td>\n",
       "      <td>109.0</td>\n",
       "      <td>42.0</td>\n",
       "      <td>39.0</td>\n",
       "      <td>355.0</td>\n",
       "      <td>199.0</td>\n",
       "      <td>369.0</td>\n",
       "    </tr>\n",
       "    <tr>\n",
       "      <th>4</th>\n",
       "      <td>Liverpool</td>\n",
       "      <td>Inglaterra</td>\n",
       "      <td>190.0</td>\n",
       "      <td>109.0</td>\n",
       "      <td>40.0</td>\n",
       "      <td>41.0</td>\n",
       "      <td>384.0</td>\n",
       "      <td>226.0</td>\n",
       "      <td>367.0</td>\n",
       "    </tr>\n",
       "    <tr>\n",
       "      <th>5</th>\n",
       "      <td>Juventus</td>\n",
       "      <td>Itália</td>\n",
       "      <td>190.0</td>\n",
       "      <td>102.0</td>\n",
       "      <td>55.0</td>\n",
       "      <td>33.0</td>\n",
       "      <td>334.0</td>\n",
       "      <td>196.0</td>\n",
       "      <td>361.0</td>\n",
       "    </tr>\n",
       "    <tr>\n",
       "      <th>6</th>\n",
       "      <td>AC Milan</td>\n",
       "      <td>Itália</td>\n",
       "      <td>190.0</td>\n",
       "      <td>103.0</td>\n",
       "      <td>46.0</td>\n",
       "      <td>41.0</td>\n",
       "      <td>334.0</td>\n",
       "      <td>219.0</td>\n",
       "      <td>355.0</td>\n",
       "    </tr>\n",
       "    <tr>\n",
       "      <th>7</th>\n",
       "      <td>Chelsea</td>\n",
       "      <td>Inglaterra</td>\n",
       "      <td>175.0</td>\n",
       "      <td>100.0</td>\n",
       "      <td>34.0</td>\n",
       "      <td>41.0</td>\n",
       "      <td>332.0</td>\n",
       "      <td>204.0</td>\n",
       "      <td>334.0</td>\n",
       "    </tr>\n",
       "    <tr>\n",
       "      <th>8</th>\n",
       "      <td>Paris Saint-Germain</td>\n",
       "      <td>França</td>\n",
       "      <td>175.0</td>\n",
       "      <td>98.0</td>\n",
       "      <td>41.0</td>\n",
       "      <td>36.0</td>\n",
       "      <td>326.0</td>\n",
       "      <td>193.0</td>\n",
       "      <td>335.0</td>\n",
       "    </tr>\n",
       "    <tr>\n",
       "      <th>9</th>\n",
       "      <td>Borussia Dortmund</td>\n",
       "      <td>Alemanha</td>\n",
       "      <td>175.0</td>\n",
       "      <td>94.0</td>\n",
       "      <td>37.0</td>\n",
       "      <td>44.0</td>\n",
       "      <td>321.0</td>\n",
       "      <td>223.0</td>\n",
       "      <td>325.0</td>\n",
       "    </tr>\n",
       "    <tr>\n",
       "      <th>10</th>\n",
       "      <td>Real Madrid</td>\n",
       "      <td>Espanha</td>\n",
       "      <td>207.0</td>\n",
       "      <td>127.0</td>\n",
       "      <td>42.0</td>\n",
       "      <td>38.0</td>\n",
       "      <td>442.0</td>\n",
       "      <td>229.0</td>\n",
       "      <td>423.0</td>\n",
       "    </tr>\n",
       "    <tr>\n",
       "      <th>11</th>\n",
       "      <td>FC Barcelona</td>\n",
       "      <td>Espanha</td>\n",
       "      <td>207.0</td>\n",
       "      <td>123.0</td>\n",
       "      <td>43.0</td>\n",
       "      <td>41.0</td>\n",
       "      <td>423.0</td>\n",
       "      <td>232.0</td>\n",
       "      <td>412.0</td>\n",
       "    </tr>\n",
       "    <tr>\n",
       "      <th>12</th>\n",
       "      <td>Bayern de Munique</td>\n",
       "      <td>Alemanha</td>\n",
       "      <td>207.0</td>\n",
       "      <td>125.0</td>\n",
       "      <td>41.0</td>\n",
       "      <td>41.0</td>\n",
       "      <td>416.0</td>\n",
       "      <td>232.0</td>\n",
       "      <td>416.0</td>\n",
       "    </tr>\n",
       "    <tr>\n",
       "      <th>13</th>\n",
       "      <td>Manchester United</td>\n",
       "      <td>Inglaterra</td>\n",
       "      <td>190.0</td>\n",
       "      <td>109.0</td>\n",
       "      <td>42.0</td>\n",
       "      <td>39.0</td>\n",
       "      <td>355.0</td>\n",
       "      <td>199.0</td>\n",
       "      <td>369.0</td>\n",
       "    </tr>\n",
       "    <tr>\n",
       "      <th>14</th>\n",
       "      <td>Liverpool</td>\n",
       "      <td>Inglaterra</td>\n",
       "      <td>190.0</td>\n",
       "      <td>109.0</td>\n",
       "      <td>40.0</td>\n",
       "      <td>41.0</td>\n",
       "      <td>384.0</td>\n",
       "      <td>226.0</td>\n",
       "      <td>367.0</td>\n",
       "    </tr>\n",
       "    <tr>\n",
       "      <th>15</th>\n",
       "      <td>Juventus</td>\n",
       "      <td>Itália</td>\n",
       "      <td>190.0</td>\n",
       "      <td>102.0</td>\n",
       "      <td>55.0</td>\n",
       "      <td>33.0</td>\n",
       "      <td>334.0</td>\n",
       "      <td>196.0</td>\n",
       "      <td>361.0</td>\n",
       "    </tr>\n",
       "    <tr>\n",
       "      <th>16</th>\n",
       "      <td>AC Milan</td>\n",
       "      <td>Itália</td>\n",
       "      <td>190.0</td>\n",
       "      <td>103.0</td>\n",
       "      <td>46.0</td>\n",
       "      <td>41.0</td>\n",
       "      <td>334.0</td>\n",
       "      <td>219.0</td>\n",
       "      <td>355.0</td>\n",
       "    </tr>\n",
       "    <tr>\n",
       "      <th>17</th>\n",
       "      <td>Chelsea</td>\n",
       "      <td>Inglaterra</td>\n",
       "      <td>175.0</td>\n",
       "      <td>100.0</td>\n",
       "      <td>34.0</td>\n",
       "      <td>41.0</td>\n",
       "      <td>332.0</td>\n",
       "      <td>204.0</td>\n",
       "      <td>334.0</td>\n",
       "    </tr>\n",
       "    <tr>\n",
       "      <th>18</th>\n",
       "      <td>Paris Saint-Germain</td>\n",
       "      <td>França</td>\n",
       "      <td>175.0</td>\n",
       "      <td>98.0</td>\n",
       "      <td>41.0</td>\n",
       "      <td>36.0</td>\n",
       "      <td>326.0</td>\n",
       "      <td>193.0</td>\n",
       "      <td>335.0</td>\n",
       "    </tr>\n",
       "    <tr>\n",
       "      <th>19</th>\n",
       "      <td>Borussia Dortmund</td>\n",
       "      <td>Alemanha</td>\n",
       "      <td>175.0</td>\n",
       "      <td>94.0</td>\n",
       "      <td>37.0</td>\n",
       "      <td>44.0</td>\n",
       "      <td>321.0</td>\n",
       "      <td>223.0</td>\n",
       "      <td>325.0</td>\n",
       "    </tr>\n",
       "  </tbody>\n",
       "</table>\n",
       "</div>"
      ],
      "text/plain": [
       "                   Time        País  JogosDisputados  Vitórias  Empates  \\\n",
       "0           Real Madrid     Espanha            207.0     127.0     42.0   \n",
       "1          FC Barcelona     Espanha            207.0     123.0     43.0   \n",
       "2     Bayern de Munique    Alemanha            207.0     125.0     41.0   \n",
       "3     Manchester United  Inglaterra            190.0     109.0     42.0   \n",
       "4             Liverpool  Inglaterra            190.0     109.0     40.0   \n",
       "5              Juventus      Itália            190.0     102.0     55.0   \n",
       "6              AC Milan      Itália            190.0     103.0     46.0   \n",
       "7               Chelsea  Inglaterra            175.0     100.0     34.0   \n",
       "8   Paris Saint-Germain      França            175.0      98.0     41.0   \n",
       "9     Borussia Dortmund    Alemanha            175.0      94.0     37.0   \n",
       "10          Real Madrid     Espanha            207.0     127.0     42.0   \n",
       "11         FC Barcelona     Espanha            207.0     123.0     43.0   \n",
       "12    Bayern de Munique    Alemanha            207.0     125.0     41.0   \n",
       "13    Manchester United  Inglaterra            190.0     109.0     42.0   \n",
       "14            Liverpool  Inglaterra            190.0     109.0     40.0   \n",
       "15             Juventus      Itália            190.0     102.0     55.0   \n",
       "16             AC Milan      Itália            190.0     103.0     46.0   \n",
       "17              Chelsea  Inglaterra            175.0     100.0     34.0   \n",
       "18  Paris Saint-Germain      França            175.0      98.0     41.0   \n",
       "19    Borussia Dortmund    Alemanha            175.0      94.0     37.0   \n",
       "\n",
       "    Derrotas  GolsMarcados  GolsSofridos  Pontos  \n",
       "0       38.0         442.0         229.0   423.0  \n",
       "1       41.0         423.0         232.0   412.0  \n",
       "2       41.0         416.0         232.0   416.0  \n",
       "3       39.0         355.0         199.0   369.0  \n",
       "4       41.0         384.0         226.0   367.0  \n",
       "5       33.0         334.0         196.0   361.0  \n",
       "6       41.0         334.0         219.0   355.0  \n",
       "7       41.0         332.0         204.0   334.0  \n",
       "8       36.0         326.0         193.0   335.0  \n",
       "9       44.0         321.0         223.0   325.0  \n",
       "10      38.0         442.0         229.0   423.0  \n",
       "11      41.0         423.0         232.0   412.0  \n",
       "12      41.0         416.0         232.0   416.0  \n",
       "13      39.0         355.0         199.0   369.0  \n",
       "14      41.0         384.0         226.0   367.0  \n",
       "15      33.0         334.0         196.0   361.0  \n",
       "16      41.0         334.0         219.0   355.0  \n",
       "17      41.0         332.0         204.0   334.0  \n",
       "18      36.0         326.0         193.0   335.0  \n",
       "19      44.0         321.0         223.0   325.0  "
      ]
     },
     "execution_count": 42,
     "metadata": {},
     "output_type": "execute_result"
    }
   ],
   "source": [
    "df.head(20)"
   ]
  },
  {
   "cell_type": "code",
   "execution_count": 44,
   "metadata": {},
   "outputs": [
    {
     "data": {
      "image/png": "[encoded data removed]",
      "text/plain": [
       "<Figure size 900x600 with 2 Axes>"
      ]
     },
     "metadata": {},
     "output_type": "display_data"
    }
   ],
   "source": [
    "#raw-materials list\n",
    "raw_data=['JogosDisputados', 'Vitórias',  'Empates', 'Derrotas', 'GolsMarcados', 'GolsSofridos', 'Pontos']\n",
    "#getting the correlation matrix\n",
    "corrmat = df[raw_data].corr()\n",
    "#setting the size of plot\n",
    "fig = plt.figure(figsize = (9, 6))\n",
    "#masking the upper traingle part since matrix is symmetric(repetitive) \n",
    "mask = np.triu(np.ones_like(corrmat, dtype=bool))\n",
    "sns.heatmap(corrmat, vmax = .8,mask=mask, square = True, annot = True)\n",
    "plt.show()"
   ]
  },
  {
   "cell_type": "code",
   "execution_count": 52,
   "metadata": {},
   "outputs": [
    {
     "data": {
      "image/png": "[encoded data removed]",
      "text/plain": [
       "<Figure size 900x600 with 3 Axes>"
      ]
     },
     "metadata": {},
     "output_type": "display_data"
    }
   ],
   "source": [
    "axes=df[[\"Empates\",\"Derrotas\", \"Vitórias\"]].plot(figsize=(9, 6), subplots=True, linewidth=1)\n"
   ]
  },
  {
   "cell_type": "code",
   "execution_count": null,
   "metadata": {
    "colab": {
     "base_uri": "https://localhost:8080/",
     "height": 380
    },
    "id": "FpDKW011BkJm",
    "outputId": "0ab54edf-93d9-481f-8ef8-b765d992190c"
   },
   "outputs": [],
   "source": [
    "plt.figure(figsize=(8, 2))\n",
    "plt.bar(df['Time'], df['GolsMarcados'])\n",
    "plt.xlabel('Times')\n",
    "plt.ylabel('Gols Marcados')\n",
    "plt.title('Gols Marcados por Time')\n",
    "plt.xticks(rotation=90)\n",
    "plt.show()"
   ]
  },
  {
   "cell_type": "code",
   "execution_count": null,
   "metadata": {
    "colab": {
     "base_uri": "https://localhost:8080/",
     "height": 380
    },
    "id": "5vQxQwE2C40C",
    "outputId": "a7bfe698-74e3-474f-e105-a218219db6bd"
   },
   "outputs": [],
   "source": [
    "plt.figure(figsize=(8, 2))\n",
    "plt.bar(df['Time'], df['Vitórias'])\n",
    "plt.xlabel('Times')\n",
    "plt.ylabel('Vitórias')\n",
    "plt.title('Wins')\n",
    "plt.xticks(rotation=90)\n",
    "plt.show()"
   ]
  },
  {
   "cell_type": "code",
   "execution_count": null,
   "metadata": {
    "id": "hFdgAvVpEP37"
   },
   "outputs": [],
   "source": [
    "from sklearn.model_selection import train_test_split\n",
    "from sklearn.linear_model import LinearRegression"
   ]
  },
  {
   "cell_type": "code",
   "execution_count": null,
   "metadata": {
    "id": "paGVWx7-EQtH"
   },
   "outputs": [],
   "source": [
    "# Separe as características (X) e o alvo (y)\n",
    "X = df[['Vitórias', 'Empates', 'Derrotas']]\n",
    "y = df['Pontos']"
   ]
  },
  {
   "cell_type": "code",
   "execution_count": null,
   "metadata": {
    "id": "JHKkLzWIEbNy"
   },
   "outputs": [],
   "source": [
    "# Divida o conjunto de dados em conjuntos de treinamento e teste\n",
    "X_train, X_test, y_train, y_test = train_test_split(X, y, test_size=0.2, random_state=42)"
   ]
  },
  {
   "cell_type": "code",
   "execution_count": null,
   "metadata": {
    "id": "Q6xv6kWGEw9Z"
   },
   "outputs": [],
   "source": [
    "# Crie um modelo de regressão linear\n",
    "model = LinearRegression()"
   ]
  },
  {
   "cell_type": "code",
   "execution_count": null,
   "metadata": {
    "colab": {
     "base_uri": "https://localhost:8080/",
     "height": 74
    },
    "id": "jAtL1kYLE1wJ",
    "outputId": "ce11cfeb-8270-456b-ed8d-9c0e31ac8976"
   },
   "outputs": [],
   "source": [
    "# Treine o modelo nos dados de treinamento\n",
    "model.fit(X_train, y_train)"
   ]
  },
  {
   "cell_type": "code",
   "execution_count": null,
   "metadata": {
    "id": "ChIoRKE0E6CV"
   },
   "outputs": [],
   "source": [
    "# Faça previsões usando o conjunto de testes\n",
    "y_pred = model.predict(X_test)"
   ]
  },
  {
   "cell_type": "code",
   "execution_count": null,
   "metadata": {
    "colab": {
     "base_uri": "https://localhost:8080/",
     "height": 472
    },
    "id": "OGzAJialE_mU",
    "outputId": "b542526e-e100-459b-b45e-3589e9672ca9"
   },
   "outputs": [],
   "source": [
    "# Plote os resultados\n",
    "plt.scatter(y_test, y_pred)\n",
    "plt.xlabel(\"Pontuação Real\")\n",
    "plt.ylabel(\"Pontuação Prevista\")\n",
    "plt.title(\"Pontuação Real vs. Pontuação Prevista\")\n",
    "plt.show()"
   ]
  },
  {
   "cell_type": "code",
   "execution_count": null,
   "metadata": {
    "id": "lWEhUk4gFLzT"
   },
   "outputs": [],
   "source": [
    "import tensorflow as tf"
   ]
  },
  {
   "cell_type": "code",
   "execution_count": null,
   "metadata": {
    "id": "HU5KtHxLFw8h"
   },
   "outputs": [],
   "source": [
    "# Separe as características (X) e o alvo (y)\n",
    "X = df[['Vitórias', 'Empates', 'Derrotas']]\n",
    "y = df['Pontos']"
   ]
  },
  {
   "cell_type": "code",
   "execution_count": null,
   "metadata": {
    "id": "vUswscUwHRu4"
   },
   "outputs": [],
   "source": [
    "# Divida o conjunto de dados em conjuntos de treinamento e teste\n",
    "X_train, X_test, y_train, y_test = train_test_split(X, y, test_size=0.2, random_state=42)"
   ]
  },
  {
   "cell_type": "code",
   "execution_count": null,
   "metadata": {
    "id": "mjaZxuuOHXYH"
   },
   "outputs": [],
   "source": [
    "# Crie um modelo de regressão linear usando TensorFlow\n",
    "model = tf.keras.Sequential([\n",
    "    tf.keras.layers.Input(shape=(3,)),\n",
    "    tf.keras.layers.Dense(units=1)\n",
    "])"
   ]
  },
  {
   "cell_type": "code",
   "execution_count": null,
   "metadata": {
    "id": "nouZd7bmH8x-"
   },
   "outputs": [],
   "source": [
    "# Compile o modelo\n",
    "model.compile(optimizer='adam', loss='mean_squared_error')"
   ]
  },
  {
   "cell_type": "code",
   "execution_count": null,
   "metadata": {
    "id": "ZnK11ndhIKcx"
   },
   "outputs": [],
   "source": [
    "# Treine o modelo nos dados de treinamento\n",
    "history = model.fit(X_train, y_train, epochs=100, verbose=0)"
   ]
  },
  {
   "cell_type": "code",
   "execution_count": null,
   "metadata": {
    "colab": {
     "base_uri": "https://localhost:8080/"
    },
    "id": "1jOpUDU4IOs3",
    "outputId": "50d844a8-4a95-456b-8e1e-60edbbcf9e2f"
   },
   "outputs": [],
   "source": [
    "# Faça previsões usando o conjunto de testes\n",
    "y_pred = model.predict(X_test)"
   ]
  },
  {
   "cell_type": "code",
   "execution_count": null,
   "metadata": {
    "colab": {
     "base_uri": "https://localhost:8080/",
     "height": 472
    },
    "id": "fql_5YptITj0",
    "outputId": "9cf37269-c864-4515-d98d-f14604f70deb"
   },
   "outputs": [],
   "source": [
    "# Plote os resultados\n",
    "plt.scatter(y_test, y_pred)\n",
    "plt.xlabel(\"Pontuação Real\")\n",
    "plt.ylabel(\"Pontuação Prevista\")\n",
    "plt.title(\"Pontuação Real vs. Pontuação Prevista (TensorFlow)\")\n",
    "plt.show()"
   ]
  },
  {
   "cell_type": "code",
   "execution_count": null,
   "metadata": {
    "id": "c9dK1Y6mIr3V"
   },
   "outputs": [],
   "source": []
  }
 ],
 "metadata": {
  "colab": {
   "provenance": []
  },
  "kernelspec": {
   "display_name": "Python 3 (ipykernel)",
   "language": "python",
   "name": "python3"
  },
  "language_info": {
   "codemirror_mode": {
    "name": "ipython",
    "version": 3
   },
   "file_extension": ".py",
   "mimetype": "text/x-python",
   "name": "python",
   "nbconvert_exporter": "python",
   "pygments_lexer": "ipython3",
   "version": "3.10.9"
  }
 },
 "nbformat": 4,
 "nbformat_minor": 1
}
